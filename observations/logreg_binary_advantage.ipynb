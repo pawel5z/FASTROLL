{
 "cells": [
  {
   "cell_type": "code",
   "execution_count": 1,
   "metadata": {},
   "outputs": [],
   "source": [
    "import pandas as pd\n",
    "import sklearn\n",
    "import sklearn.model_selection\n",
    "import sys\n",
    "sys.path.append('../')\n",
    "import encoding\n",
    "from utilities import *\n",
    "from models.logreg import LogisticRegression"
   ]
  },
  {
   "cell_type": "code",
   "execution_count": 2,
   "metadata": {},
   "outputs": [
    {
     "data": {
      "text/html": [
       "<div>\n",
       "<style scoped>\n",
       "    .dataframe tbody tr th:only-of-type {\n",
       "        vertical-align: middle;\n",
       "    }\n",
       "\n",
       "    .dataframe tbody tr th {\n",
       "        vertical-align: top;\n",
       "    }\n",
       "\n",
       "    .dataframe thead th {\n",
       "        text-align: right;\n",
       "    }\n",
       "</style>\n",
       "<table border=\"1\" class=\"dataframe\">\n",
       "  <thead>\n",
       "    <tr style=\"text-align: right;\">\n",
       "      <th></th>\n",
       "      <th>FEN</th>\n",
       "      <th>Winner</th>\n",
       "    </tr>\n",
       "  </thead>\n",
       "  <tbody>\n",
       "    <tr>\n",
       "      <th>0</th>\n",
       "      <td>4q3/2n3b1/3R4/5pqb/1b5n/n2K1p1k/4NB1q/r1R5 w -...</td>\n",
       "      <td>0</td>\n",
       "    </tr>\n",
       "    <tr>\n",
       "      <th>1</th>\n",
       "      <td>6K1/6P1/4N3/2P4N/1N1P2BQ/1P4k1/8/8 w - - 0 1</td>\n",
       "      <td>1</td>\n",
       "    </tr>\n",
       "    <tr>\n",
       "      <th>2</th>\n",
       "      <td>qN1k3r/1rN1b2b/6K1/B2n3r/5r2/Q5nr/q2r2Q1/8 w -...</td>\n",
       "      <td>0</td>\n",
       "    </tr>\n",
       "    <tr>\n",
       "      <th>3</th>\n",
       "      <td>4n3/2b4b/1rr5/6p1/r2k4/1Kp5/8/b7 w - - 0 1</td>\n",
       "      <td>0</td>\n",
       "    </tr>\n",
       "    <tr>\n",
       "      <th>4</th>\n",
       "      <td>1bn1BKQ1/1bPR4/1B1N2k1/bb1br2Q/5Q1n/N4N2/1q3r2...</td>\n",
       "      <td>1</td>\n",
       "    </tr>\n",
       "    <tr>\n",
       "      <th>...</th>\n",
       "      <td>...</td>\n",
       "      <td>...</td>\n",
       "    </tr>\n",
       "    <tr>\n",
       "      <th>99995</th>\n",
       "      <td>8/p6K/3p2b1/k7/n6r/8/5q2/2b5 w - - 0 1</td>\n",
       "      <td>0</td>\n",
       "    </tr>\n",
       "    <tr>\n",
       "      <th>99996</th>\n",
       "      <td>2nR4/4P1P1/K4b1q/5p2/1b1p4/4rk2/5r2/5bq1 w - -...</td>\n",
       "      <td>0</td>\n",
       "    </tr>\n",
       "    <tr>\n",
       "      <th>99997</th>\n",
       "      <td>8/1q4np/8/7Q/8/B2k4/2p5/2K3r1 w - - 0 1</td>\n",
       "      <td>0</td>\n",
       "    </tr>\n",
       "    <tr>\n",
       "      <th>99998</th>\n",
       "      <td>8/1b6/1nk5/5n1K/7b/r1r5/4bqB1/2n5 w - - 0 1</td>\n",
       "      <td>0</td>\n",
       "    </tr>\n",
       "    <tr>\n",
       "      <th>99999</th>\n",
       "      <td>1qNQ1Nq1/4q3/K2N3q/2P3n1/1k1q1p1Q/1b6/6R1/1r1N...</td>\n",
       "      <td>0</td>\n",
       "    </tr>\n",
       "  </tbody>\n",
       "</table>\n",
       "<p>100000 rows × 2 columns</p>\n",
       "</div>"
      ],
      "text/plain": [
       "                                                     FEN  Winner\n",
       "0      4q3/2n3b1/3R4/5pqb/1b5n/n2K1p1k/4NB1q/r1R5 w -...       0\n",
       "1           6K1/6P1/4N3/2P4N/1N1P2BQ/1P4k1/8/8 w - - 0 1       1\n",
       "2      qN1k3r/1rN1b2b/6K1/B2n3r/5r2/Q5nr/q2r2Q1/8 w -...       0\n",
       "3             4n3/2b4b/1rr5/6p1/r2k4/1Kp5/8/b7 w - - 0 1       0\n",
       "4      1bn1BKQ1/1bPR4/1B1N2k1/bb1br2Q/5Q1n/N4N2/1q3r2...       1\n",
       "...                                                  ...     ...\n",
       "99995             8/p6K/3p2b1/k7/n6r/8/5q2/2b5 w - - 0 1       0\n",
       "99996  2nR4/4P1P1/K4b1q/5p2/1b1p4/4rk2/5r2/5bq1 w - -...       0\n",
       "99997            8/1q4np/8/7Q/8/B2k4/2p5/2K3r1 w - - 0 1       0\n",
       "99998        8/1b6/1nk5/5n1K/7b/r1r5/4bqB1/2n5 w - - 0 1       0\n",
       "99999  1qNQ1Nq1/4q3/K2N3q/2P3n1/1k1q1p1Q/1b6/6R1/1r1N...       0\n",
       "\n",
       "[100000 rows x 2 columns]"
      ]
     },
     "execution_count": 2,
     "metadata": {},
     "output_type": "execute_result"
    }
   ],
   "source": [
    "df = pd.read_csv(\"../datasets/random.csv\")\n",
    "df"
   ]
  },
  {
   "cell_type": "code",
   "execution_count": 3,
   "metadata": {},
   "outputs": [
    {
     "data": {
      "application/vnd.jupyter.widget-view+json": {
       "model_id": "672ae1d4610b417e9881886e2408f75d",
       "version_major": 2,
       "version_minor": 0
      },
      "text/plain": [
       "  0%|          | 0/100000 [00:00<?, ?it/s]"
      ]
     },
     "metadata": {},
     "output_type": "display_data"
    },
    {
     "data": {
      "text/html": [
       "<div>\n",
       "<style scoped>\n",
       "    .dataframe tbody tr th:only-of-type {\n",
       "        vertical-align: middle;\n",
       "    }\n",
       "\n",
       "    .dataframe tbody tr th {\n",
       "        vertical-align: top;\n",
       "    }\n",
       "\n",
       "    .dataframe thead th {\n",
       "        text-align: right;\n",
       "    }\n",
       "</style>\n",
       "<table border=\"1\" class=\"dataframe\">\n",
       "  <thead>\n",
       "    <tr style=\"text-align: right;\">\n",
       "      <th></th>\n",
       "      <th>0</th>\n",
       "      <th>1</th>\n",
       "      <th>Winner</th>\n",
       "    </tr>\n",
       "  </thead>\n",
       "  <tbody>\n",
       "    <tr>\n",
       "      <th>0</th>\n",
       "      <td>-37</td>\n",
       "      <td>-36</td>\n",
       "      <td>0</td>\n",
       "    </tr>\n",
       "    <tr>\n",
       "      <th>1</th>\n",
       "      <td>31</td>\n",
       "      <td>25</td>\n",
       "      <td>1</td>\n",
       "    </tr>\n",
       "    <tr>\n",
       "      <th>2</th>\n",
       "      <td>-74</td>\n",
       "      <td>-33</td>\n",
       "      <td>0</td>\n",
       "    </tr>\n",
       "    <tr>\n",
       "      <th>3</th>\n",
       "      <td>-46</td>\n",
       "      <td>-29</td>\n",
       "      <td>0</td>\n",
       "    </tr>\n",
       "    <tr>\n",
       "      <th>4</th>\n",
       "      <td>70</td>\n",
       "      <td>-1</td>\n",
       "      <td>1</td>\n",
       "    </tr>\n",
       "    <tr>\n",
       "      <th>...</th>\n",
       "      <td>...</td>\n",
       "      <td>...</td>\n",
       "      <td>...</td>\n",
       "    </tr>\n",
       "    <tr>\n",
       "      <th>99995</th>\n",
       "      <td>-56</td>\n",
       "      <td>-25</td>\n",
       "      <td>0</td>\n",
       "    </tr>\n",
       "    <tr>\n",
       "      <th>99996</th>\n",
       "      <td>-67</td>\n",
       "      <td>-35</td>\n",
       "      <td>0</td>\n",
       "    </tr>\n",
       "    <tr>\n",
       "      <th>99997</th>\n",
       "      <td>-40</td>\n",
       "      <td>-7</td>\n",
       "      <td>0</td>\n",
       "    </tr>\n",
       "    <tr>\n",
       "      <th>99998</th>\n",
       "      <td>-8</td>\n",
       "      <td>-34</td>\n",
       "      <td>0</td>\n",
       "    </tr>\n",
       "    <tr>\n",
       "      <th>99999</th>\n",
       "      <td>-3</td>\n",
       "      <td>-15</td>\n",
       "      <td>0</td>\n",
       "    </tr>\n",
       "  </tbody>\n",
       "</table>\n",
       "<p>100000 rows × 3 columns</p>\n",
       "</div>"
      ],
      "text/plain": [
       "        0   1  Winner\n",
       "0     -37 -36       0\n",
       "1      31  25       1\n",
       "2     -74 -33       0\n",
       "3     -46 -29       0\n",
       "4      70  -1       1\n",
       "...    ..  ..     ...\n",
       "99995 -56 -25       0\n",
       "99996 -67 -35       0\n",
       "99997 -40  -7       0\n",
       "99998  -8 -34       0\n",
       "99999  -3 -15       0\n",
       "\n",
       "[100000 rows x 3 columns]"
      ]
     },
     "execution_count": 3,
     "metadata": {},
     "output_type": "execute_result"
    }
   ],
   "source": [
    "# Encode the dataset\n",
    "chess_df = easy_encode(df, encoding.advantage)\n",
    "chess_df"
   ]
  },
  {
   "cell_type": "code",
   "execution_count": 4,
   "metadata": {},
   "outputs": [
    {
     "data": {
      "text/plain": [
       "[0.03991517 0.09927695]"
      ]
     },
     "execution_count": 4,
     "metadata": {},
     "output_type": "execute_result"
    }
   ],
   "source": [
    "chessX, chessY = XYsplit(chess_df, 'Winner')\n",
    "logreg = LogisticRegression(chessX, chessY)\n",
    "logreg"
   ]
  },
  {
   "cell_type": "code",
   "execution_count": 5,
   "metadata": {},
   "outputs": [
    {
     "data": {
      "text/plain": [
       "0.09577"
      ]
     },
     "execution_count": 5,
     "metadata": {},
     "output_type": "execute_result"
    }
   ],
   "source": [
    "logreg.error(chessX, chessY)"
   ]
  },
  {
   "cell_type": "markdown",
   "metadata": {},
   "source": [
    "##### Check with train/test split"
   ]
  },
  {
   "cell_type": "code",
   "execution_count": 6,
   "metadata": {},
   "outputs": [
    {
     "name": "stdout",
     "output_type": "stream",
     "text": [
      "error on train set 0.09592222222222223\n",
      "error on test set 0.0935\n"
     ]
    }
   ],
   "source": [
    "train_df, test_df = sklearn.model_selection.train_test_split(chess_df, test_size=.1)\n",
    "trainX, trainY = XYsplit(train_df, 'Winner')\n",
    "testX, testY = XYsplit(test_df, 'Winner')\n",
    "train_logreg = LogisticRegression(trainX, trainY)\n",
    "print(f'error on train set {train_logreg.error(trainX, trainY)}')\n",
    "print(f'error on test set {train_logreg.error(testX, testY)}')"
   ]
  },
  {
   "cell_type": "code",
   "execution_count": null,
   "metadata": {},
   "outputs": [],
   "source": []
  }
 ],
 "metadata": {
  "@webio": {
   "lastCommId": null,
   "lastKernelId": null
  },
  "interpreter": {
   "hash": "e7370f93d1d0cde622a1f8e1c04877d8463912d04d973331ad4851f04de6915a"
  },
  "kernelspec": {
   "display_name": "Python 3 (ipykernel)",
   "language": "python",
   "name": "python3"
  },
  "language_info": {
   "codemirror_mode": {
    "name": "ipython",
    "version": 3
   },
   "file_extension": ".py",
   "mimetype": "text/x-python",
   "name": "python",
   "nbconvert_exporter": "python",
   "pygments_lexer": "ipython3",
   "version": "3.9.5"
  }
 },
 "nbformat": 4,
 "nbformat_minor": 2
}
