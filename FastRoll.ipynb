{
 "cells": [
  {
   "cell_type": "markdown",
   "id": "54fc81e5",
   "metadata": {},
   "source": [
    "# FASTROLL\n",
    "Utilizing Machine Learning to predict rollout in Monte Carlo Tree Search "
   ]
  },
  {
   "cell_type": "markdown",
   "id": "5c9c5d4e",
   "metadata": {},
   "source": [
    "## Data generation\n",
    "\n",
    "We decided to gather data from 3 different sources.\n",
    "- Kaggle data set https://www.kaggle.com/milesh1/35-million-chess-games\n",
    "- Random moves\n",
    "- Random FEN\n",
    "\n",
    "Each set of data consist of 100,000 data points:\n",
    "    FEN record -> Win or Lose\n",
    "\n",
    "Kaggle set was genereted by taking pre-existing games, then we would extract each state from a game in FEN.\n",
    "Random moves was done in similar maner, only the games were playout randomly at time of gerneration.\n",
    "Random FEN is just a random placement of the pieces.\n",
    "\n",
    "Win or Lose was obtained by evaluating each FEN by stockfish."
   ]
  },
  {
   "cell_type": "markdown",
   "id": "6b9f7f96",
   "metadata": {},
   "source": [
    "## Imports and utility functions"
   ]
  },
  {
   "cell_type": "code",
   "execution_count": 1,
   "id": "066e4bf9",
   "metadata": {},
   "outputs": [],
   "source": [
    "import pandas as pd\n",
    "import sklearn\n",
    "import sklearn.model_selection\n",
    "import sys\n",
    "sys.path.append('../')\n",
    "import encoding\n",
    "from utilities import *"
   ]
  },
  {
   "cell_type": "markdown",
   "id": "8dfe7f27",
   "metadata": {},
   "source": [
    "## Model\n",
    "### Logistic regression"
   ]
  },
  {
   "cell_type": "code",
   "execution_count": 2,
   "id": "c05251b8",
   "metadata": {},
   "outputs": [],
   "source": [
    "from models.logreg import LogisticRegression"
   ]
  },
  {
   "cell_type": "markdown",
   "id": "eddf9342",
   "metadata": {},
   "source": [
    "### Random forest"
   ]
  },
  {
   "cell_type": "code",
   "execution_count": null,
   "id": "634228ab",
   "metadata": {},
   "outputs": [],
   "source": [
    "from models.forests import Tree, RandomForest"
   ]
  },
  {
   "cell_type": "markdown",
   "id": "5b098e30",
   "metadata": {},
   "source": [
    "### Data and encoding"
   ]
  },
  {
   "cell_type": "code",
   "execution_count": 3,
   "id": "d0646b8a",
   "metadata": {},
   "outputs": [],
   "source": [
    "kaggle_df   = pd.read_csv('datasets/kaggle.csv')\n",
    "random_df   = pd.read_csv('datasets/random.csv')\n",
    "rollouts_df = pd.read_csv('datasets/rollouts.csv')\n",
    "kaggle_df.columns   = [\"FEN\", \"Winner\"]\n",
    "random_df.columns   = [\"FEN\", \"Winner\"]\n",
    "rollouts_df.columns = [\"FEN\", \"Winner\"]"
   ]
  },
  {
   "cell_type": "code",
   "execution_count": 4,
   "id": "24fe705c",
   "metadata": {},
   "outputs": [],
   "source": [
    "chess_pieces = dict(zip(\".prnbqkPRNBQK\", range(13)))\n",
    "weights = {\n",
    "    \"P\": 1, \"N\": 3, \"B\": 3,\n",
    "    \"R\": 5, \"Q\": 9, \"K\": 0\n",
    "}\n",
    "\n",
    "\n",
    "def squares(fen: str):\n",
    "    \"\"\"Encode game state as a vector of squares,\n",
    "    where each square is associated with the piece\n",
    "    that it is occupied by or with zero otherwise.\"\"\"\n",
    "    board = str(Board(fen))\n",
    "    return np.array([chess_pieces[p] for p in board if p not in '\\n '])\n",
    "\n",
    "\n",
    "def one_hot_enc_piece(piece: str):\n",
    "    \"\"\"One-hot encode chess piece as 12-dimensional (6 types of pieces,\n",
    "    2 colors each) vector v, where \\n\n",
    "    v_{0}  indicates black pawn, \\n\n",
    "    v_{1}  indicates black rook, \\n\n",
    "    v_{2}  indicates black knight, \\n\n",
    "    v_{3}  indicates black bishop, \\n\n",
    "    v_{4}  indicates black queen, \\n\n",
    "    v_{5}  indicates black king, \\n\n",
    "    v_{6}  indicates white pawn, \\n\n",
    "    v_{7}  indicates white rook, \\n\n",
    "    v_{8}  indicates white knight, \\n\n",
    "    v_{9}  indicates white bishop, \\n\n",
    "    v_{10} indicates white queen, \\n\n",
    "    v_{11} indicates white king.\n",
    "    \"\"\"\n",
    "    if piece == '.':\n",
    "        return np.zeros(len(chess_pieces) - 1)\n",
    "    index = chess_pieces[piece] - 1\n",
    "    zeros_before = [0] * index\n",
    "    # Why -2:\n",
    "    # The 1st -1 becasue we have to count in dot at the beginning of `chess_pieces`.\n",
    "    # The 2nd -1 to get index of last piece.\n",
    "    zeros_after = [0] * (len(chess_pieces) - 2 - index)\n",
    "    return np.array(zeros_before + [1] + zeros_after)\n",
    "\n",
    "\n",
    "def binary(fen: str):\n",
    "    \"\"\"Encode game state as a 773-dimensional vector v, where for i in\n",
    "    {0, 12, ..., 756}\n",
    "    v_{i}   indicates that there's black pawn on square floor(i/12), \\n\n",
    "    v_{i+1} indicates that there's black rook on square floor(i/12), \\n\n",
    "    v_{i+2} indicates that there's black knight on square floor(i/12), \\n\n",
    "    v_{i+3} indicates that there's black bishop on square floor(i/12), \\n\n",
    "    v_{i+4} indicates that there's black queen on square floor(i/12), \\n\n",
    "    v_{i+5} indicates that there's black king on square floor(i/12), \\n\n",
    "    v_{i+6}  indicates that there's white pawn on square floor(i/12), \\n\n",
    "    v_{i+7}  indicates that there's white rook on square floor(i/12), \\n\n",
    "    v_{i+8}  indicates that there's white knight on square floor(i/12), \\n\n",
    "    v_{i+9}  indicates that there's white bishop on square floor(i/12), \\n\n",
    "    v_{i+10} indicates that there's white queen on square floor(i/12), \\n\n",
    "    v_{i+11} indicates that there's white king on square floor(i/12). \\n\n",
    "\n",
    "    Squares are ordered in row-major way from top left (A8) to bottom right (H1). \\n\n",
    "\n",
    "    v_768 indicates player to move, \\n\n",
    "    v_769 indicates whether black has kingside castling right, \\n\n",
    "    v_770 indicates whether black has queenside castling right, \\n\n",
    "    v_771 indicates whether white has kingside castling right, \\n\n",
    "    v_772 indicates whether white has queenside castling right. \\n\n",
    "\n",
    "    \\\"indicates\\\" means \\\"is set to 0 or 1 depending on whether condition is\n",
    "    false or true\\\".\"\"\"\n",
    "    board = Board(fen)\n",
    "    encoding = np.array([])\n",
    "    for p in str(board):\n",
    "        if p in '\\n ':\n",
    "            continue\n",
    "        encoding = np.hstack((encoding, one_hot_enc_piece(p)))\n",
    "    encoding = np.hstack((encoding, int(board.turn)))\n",
    "    castling_rights = []\n",
    "    for castling_rook_pos in [chess.BB_H8, chess.BB_A8, chess.BB_H1, chess.BB_A1]:\n",
    "        castling_rights.append(\n",
    "            int(bool(board.castling_rights & castling_rook_pos)))\n",
    "    encoding = np.hstack((encoding, np.array(castling_rights)))\n",
    "    return encoding\n",
    "\n",
    "\n",
    "def advantage(fen: str):\n",
    "    \"\"\"Calculate player advantage based only on moves and pieces they possess.\n",
    "\n",
    "        - move advantage is the difference between the number of moves\n",
    "        available to each player\n",
    "        - material advantage is the difference of sums of weights of all the pieces\n",
    "        on the board\n",
    "\n",
    "    Values are positive if White has the advantage and negative otherwise.\n",
    "    \"\"\"\n",
    "    board = Board(fen)\n",
    "    material_advantage = sum(\n",
    "        weights[p] if p in weights else -weights[p.upper()]\n",
    "        for p in str(board) if p not in '\\n .'\n",
    "    )\n",
    "    board.turn = 1\n",
    "    move_advantage = len(list(board.legal_moves))\n",
    "    board.turn = 0\n",
    "    move_advantage -= len(list(board.legal_moves))\n",
    "    return np.array([move_advantage, material_advantage])"
   ]
  },
  {
   "cell_type": "markdown",
   "id": "c0f97ddc",
   "metadata": {},
   "source": [
    "## Observation"
   ]
  },
  {
   "cell_type": "code",
   "execution_count": 5,
   "id": "d0ed8b59",
   "metadata": {},
   "outputs": [
    {
     "data": {
      "application/vnd.jupyter.widget-view+json": {
       "model_id": "93ddd955018748fca4196a8c1f42ead5",
       "version_major": 2,
       "version_minor": 0
      },
      "text/plain": [
       "  0%|          | 0/100091 [00:00<?, ?it/s]"
      ]
     },
     "metadata": {},
     "output_type": "display_data"
    },
    {
     "data": {
      "text/plain": [
       "0.1764594219260473"
      ]
     },
     "execution_count": 5,
     "metadata": {},
     "output_type": "execute_result"
    }
   ],
   "source": [
    "chess_df = easy_encode(kaggle_df, encoding.binary)\n",
    "chessX, chessY = XYsplit(chess_df, 'Winner')\n",
    "logreg = LogisticRegression(chessX, chessY)\n",
    "logreg.error(chessX, chessY)"
   ]
  },
  {
   "cell_type": "code",
   "execution_count": 6,
   "id": "b1709ae9",
   "metadata": {},
   "outputs": [
    {
     "data": {
      "application/vnd.jupyter.widget-view+json": {
       "model_id": "0d31690976e7437da564fc44cd6dfd5b",
       "version_major": 2,
       "version_minor": 0
      },
      "text/plain": [
       "  0%|          | 0/100000 [00:00<?, ?it/s]"
      ]
     },
     "metadata": {},
     "output_type": "display_data"
    },
    {
     "data": {
      "text/plain": [
       "0.09526"
      ]
     },
     "execution_count": 6,
     "metadata": {},
     "output_type": "execute_result"
    }
   ],
   "source": [
    "chess_df = easy_encode(random_df, encoding.binary)\n",
    "chessX, chessY = XYsplit(chess_df, 'Winner')\n",
    "logreg = LogisticRegression(chessX, chessY)\n",
    "logreg.error(chessX, chessY)"
   ]
  },
  {
   "cell_type": "code",
   "execution_count": 7,
   "id": "f346ca07",
   "metadata": {},
   "outputs": [
    {
     "data": {
      "application/vnd.jupyter.widget-view+json": {
       "model_id": "60e3698208034528b6ee868505df6c3f",
       "version_major": 2,
       "version_minor": 0
      },
      "text/plain": [
       "  0%|          | 0/100000 [00:00<?, ?it/s]"
      ]
     },
     "metadata": {},
     "output_type": "display_data"
    },
    {
     "data": {
      "text/plain": [
       "0.11783"
      ]
     },
     "execution_count": 7,
     "metadata": {},
     "output_type": "execute_result"
    }
   ],
   "source": [
    "chess_df = easy_encode(rollouts_df, encoding.binary)\n",
    "chessX, chessY = XYsplit(chess_df, 'Winner')\n",
    "logreg = LogisticRegression(chessX, chessY)\n",
    "logreg.error(chessX, chessY)"
   ]
  },
  {
   "cell_type": "code",
   "execution_count": null,
   "id": "06873d78",
   "metadata": {},
   "outputs": [
    {
     "data": {
      "application/vnd.jupyter.widget-view+json": {
       "model_id": "fc6715c1eb1c46a6977507f630b6b9df",
       "version_major": 2,
       "version_minor": 0
      },
      "text/plain": [
       "  0%|          | 0/300091 [00:00<?, ?it/s]"
      ]
     },
     "metadata": {},
     "output_type": "display_data"
    }
   ],
   "source": [
    "df = pd.concat([kaggle_df,random_df,rollouts_df], axis=0, ignore_index=True)\n",
    "chess_df = easy_encode(df, encoding.binary)\n",
    "chessX, chessY = XYsplit(chess_df, 'winner')\n",
    "logreg = LogisticRegression(chessX, chessY)\n",
    "logreg.error(chessX, chessY)"
   ]
  },
  {
   "cell_type": "markdown",
   "id": "2fd0a9b0",
   "metadata": {},
   "source": [
    "### MCTS and games"
   ]
  },
  {
   "cell_type": "code",
   "execution_count": null,
   "id": "301cede9",
   "metadata": {},
   "outputs": [],
   "source": [
    "import mcts_impl.__init__\n",
    "import pandas as pd\n",
    "from utilities import *\n",
    "from mcts_impl.agents import *\n",
    "from encoding import binary\n",
    "full_random = FullRandom()\n",
    "random_search = RandomSearch(simulations=1, thinking_time=100, exploration=1)\n",
    "heuristic_search = HeuristicSearch(move_advantage_importance=1, thinking_time=100, exploration=1)\n",
    "logistic_regression_100 = MachineLearning(rollouts_df, binary, alpha=0, thinking_time=100)\n",
    "logistic_regression_500 = MachineLearning(rollouts_df, binary, alpha=0, thinking_time=500)\n",
    "fishstock = FishStock()"
   ]
  },
  {
   "cell_type": "code",
   "execution_count": null,
   "id": "910d12df",
   "metadata": {},
   "outputs": [],
   "source": [
    "playoff(logistic_regression_100, full_random, verbose=False)"
   ]
  }
 ],
 "metadata": {
  "kernelspec": {
   "display_name": "Python 3 (ipykernel)",
   "language": "python",
   "name": "python3"
  },
  "language_info": {
   "codemirror_mode": {
    "name": "ipython",
    "version": 3
   },
   "file_extension": ".py",
   "mimetype": "text/x-python",
   "name": "python",
   "nbconvert_exporter": "python",
   "pygments_lexer": "ipython3",
   "version": "3.9.5"
  }
 },
 "nbformat": 4,
 "nbformat_minor": 5
}
