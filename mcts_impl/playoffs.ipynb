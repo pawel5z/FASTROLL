{
 "cells": [
  {
   "cell_type": "code",
   "execution_count": 2,
   "metadata": {},
   "outputs": [
    {
     "data": {
      "text/plain": [
       "\"\\nSome notes:\\n\\tmcts_kwargs:\\n\\t\\t- thinking_time -- number o cycles to run, one cycle usually explores and\\n\\t\\t  expands one node (one game state)\\n\\t\\t- exploration -- decides how many cycles will be dedicated to less promising nodes\\n\\t\\t  in hopes of discovering better moves (the higher the coefficient the more explorative\\n\\t\\t  the algorithm)\\n\\tagents:\\n\\t\\tStockfish is still missing, notice that stockfish doesn't necessarily have to play\\n\\t\\tthrough MCTS, its evaluation should suffice.\\n\""
      ]
     },
     "execution_count": 2,
     "metadata": {},
     "output_type": "execute_result"
    }
   ],
   "source": [
    "import __init__\n",
    "import pandas as pd\n",
    "from utilities import *\n",
    "from agents import *\n",
    "from encoding import binary\n",
    "rollouts_df = pd.read_csv('../datasets/rollouts.csv')\n",
    "rollouts18_df = pd.read_csv('../datasets/rollouts18.csv')\n",
    "\n",
    "\n",
    "\"\"\"\n",
    "Some notes:\n",
    "\tmcts_kwargs:\n",
    "\t\t- thinking_time -- number o cycles to run, one cycle usually explores and\n",
    "\t\t  expands one node (one game state)\n",
    "\t\t- exploration -- decides how many cycles will be dedicated to less promising nodes\n",
    "\t\t  in hopes of discovering better moves (the higher the coefficient the more explorative\n",
    "\t\t  the algorithm)\n",
    "\tagents:\n",
    "\t\tStockfish is still missing, notice that stockfish doesn't necessarily have to play\n",
    "\t\tthrough MCTS, its evaluation should suffice.\n",
    "\"\"\""
   ]
  },
  {
   "cell_type": "code",
   "execution_count": 4,
   "metadata": {},
   "outputs": [
    {
     "name": "stderr",
     "output_type": "stream",
     "text": [
      "100%|██████████| 30105/30105 [00:12<00:00, 2456.36it/s]\n",
      "100%|██████████| 30105/30105 [00:15<00:00, 1969.33it/s]\n"
     ]
    }
   ],
   "source": [
    "# Make some agents\n",
    "full_random = FullRandom()\n",
    "random_search = RandomSearch(simulations=1, thinking_time=100, exploration=1)\n",
    "heuristic_search = HeuristicSearch(move_advantage_importance=1, thinking_time=100, exploration=1)\n",
    "logistic_regression_100 = MachineLearning(rollouts18_df, binary, alpha=0, thinking_time=100)\n",
    "logistic_regression_500 = MachineLearning(rollouts18_df, binary, alpha=0, thinking_time=500)\n",
    "fishstock = FishStock()"
   ]
  },
  {
   "cell_type": "code",
   "execution_count": 28,
   "metadata": {},
   "outputs": [
    {
     "data": {
      "text/plain": [
       "0.14"
      ]
     },
     "execution_count": 28,
     "metadata": {},
     "output_type": "execute_result"
    }
   ],
   "source": [
    "sum(playoff(logistic_regression_100, full_random, verbose=False) for _ in range(100)) / 100"
   ]
  },
  {
   "cell_type": "code",
   "execution_count": 29,
   "metadata": {},
   "outputs": [
    {
     "data": {
      "text/plain": [
       "0.34"
      ]
     },
     "execution_count": 29,
     "metadata": {},
     "output_type": "execute_result"
    }
   ],
   "source": [
    "sum(playoff(logistic_regression_500, full_random, verbose=False) for _ in range(100)) / 100"
   ]
  },
  {
   "cell_type": "code",
   "execution_count": 6,
   "metadata": {},
   "outputs": [
    {
     "name": "stdout",
     "output_type": "stream",
     "text": [
      "0.01 0.35\n",
      "0.5 0.39\n",
      "0.75 0.41\n",
      "1.0 0.37\n",
      "1.5 0.45\n",
      "2.0 0.3\n",
      "5.0 0.41\n",
      "10.0 0.39\n"
     ]
    }
   ],
   "source": [
    "for exploration in (0.01, 0.5, 0.75, 1.0, 1.5, 2.0, 5.0, 10.0):\n",
    "\tprint(exploration, sum(playoff(RandomSearch(simulations=1, thinking_time=100, exploration=exploration), full_random, verbose=False) for _ in range(100)) / 100)"
   ]
  },
  {
   "cell_type": "code",
   "execution_count": 8,
   "metadata": {},
   "outputs": [
    {
     "ename": "TypeError",
     "evalue": "'float' object is not iterable",
     "output_type": "error",
     "traceback": [
      "\u001b[0;31m---------------------------------------------------------------------------\u001b[0m",
      "\u001b[0;31mTypeError\u001b[0m                                 Traceback (most recent call last)",
      "\u001b[0;32m/tmp/ipykernel_13416/3462855745.py\u001b[0m in \u001b[0;36m<module>\u001b[0;34m\u001b[0m\n\u001b[0;32m----> 1\u001b[0;31m \u001b[0;32mfor\u001b[0m \u001b[0mexploration\u001b[0m \u001b[0;32min\u001b[0m \u001b[0;34m(\u001b[0m\u001b[0;36m0.0\u001b[0m\u001b[0;34m)\u001b[0m\u001b[0;34m:\u001b[0m\u001b[0;34m\u001b[0m\u001b[0;34m\u001b[0m\u001b[0m\n\u001b[0m\u001b[1;32m      2\u001b[0m         \u001b[0mprint\u001b[0m\u001b[0;34m(\u001b[0m\u001b[0mexploration\u001b[0m\u001b[0;34m,\u001b[0m \u001b[0msum\u001b[0m\u001b[0;34m(\u001b[0m\u001b[0mplayoff\u001b[0m\u001b[0;34m(\u001b[0m\u001b[0mrandom_search\u001b[0m\u001b[0;34m,\u001b[0m \u001b[0mfull_random\u001b[0m\u001b[0;34m,\u001b[0m \u001b[0mverbose\u001b[0m\u001b[0;34m=\u001b[0m\u001b[0;32mFalse\u001b[0m\u001b[0;34m)\u001b[0m \u001b[0;32mfor\u001b[0m \u001b[0m_\u001b[0m \u001b[0;32min\u001b[0m \u001b[0mrange\u001b[0m\u001b[0;34m(\u001b[0m\u001b[0;36m100\u001b[0m\u001b[0;34m)\u001b[0m\u001b[0;34m)\u001b[0m \u001b[0;34m/\u001b[0m \u001b[0;36m100\u001b[0m\u001b[0;34m)\u001b[0m\u001b[0;34m\u001b[0m\u001b[0;34m\u001b[0m\u001b[0m\n",
      "\u001b[0;31mTypeError\u001b[0m: 'float' object is not iterable"
     ]
    }
   ],
   "source": [
    "for exploration in (0.0):\n",
    "\tprint(exploration, sum(playoff(random_search, full_random, verbose=False) for _ in range(100)) / 100)"
   ]
  }
 ],
 "metadata": {
  "interpreter": {
   "hash": "e7370f93d1d0cde622a1f8e1c04877d8463912d04d973331ad4851f04de6915a"
  },
  "kernelspec": {
   "display_name": "Python 3.9.9 64-bit",
   "language": "python",
   "name": "python3"
  },
  "language_info": {
   "codemirror_mode": {
    "name": "ipython",
    "version": 3
   },
   "file_extension": ".py",
   "mimetype": "text/x-python",
   "name": "python",
   "nbconvert_exporter": "python",
   "pygments_lexer": "ipython3",
   "version": "3.9.9"
  },
  "orig_nbformat": 4
 },
 "nbformat": 4,
 "nbformat_minor": 2
}
